{
 "cells": [
  {
   "cell_type": "code",
   "execution_count": null,
   "metadata": {},
   "outputs": [],
   "source": []
  },
  {
   "cell_type": "code",
   "execution_count": 1,
   "metadata": {},
   "outputs": [],
   "source": [
    "import matplotlib.pyplot as plt\n",
    "import numpy as np\n",
    "import math"
   ]
  },
  {
   "cell_type": "markdown",
   "metadata": {},
   "source": [
    "# Problem 1 :\n",
    "# N=2"
   ]
  },
  {
   "cell_type": "code",
   "execution_count": 17,
   "metadata": {},
   "outputs": [
    {
     "data": {
      "text/plain": [
       "array([-0.48817535])"
      ]
     },
     "execution_count": 17,
     "metadata": {},
     "output_type": "execute_result"
    }
   ],
   "source": [
    "np.dot(X[0],W_Oja)"
   ]
  },
  {
   "cell_type": "code",
   "execution_count": 3,
   "metadata": {},
   "outputs": [],
   "source": [
    "eta = 1\n",
    "N=2\n",
    "num=1000\n",
    "np.random.seed(18)\n",
    "A = np.array([[np.random.normal(0,eta/N) for i in range(N)]for j in range(num)])\n",
    "y = np.identity(N)\n",
    "X = np.matmul(A,y)\n",
    "#W_Oja"
   ]
  },
  {
   "cell_type": "code",
   "execution_count": 12,
   "metadata": {},
   "outputs": [
    {
     "data": {
      "text/plain": [
       "array([0.03971422, 1.09510118])"
      ]
     },
     "execution_count": 12,
     "metadata": {},
     "output_type": "execute_result"
    }
   ],
   "source": [
    "np.matmul(A,y)"
   ]
  },
  {
   "cell_type": "code",
   "execution_count": null,
   "metadata": {},
   "outputs": [],
   "source": []
  },
  {
   "cell_type": "code",
   "execution_count": 13,
   "metadata": {},
   "outputs": [],
   "source": [
    "eta = 1\n",
    "N=2\n",
    "num=1000\n",
    "\n",
    "np.random.seed(18)\n",
    "A = np.array([[np.random.normal(0,eta/N) for i in range(N)]for j in range(num)])\n",
    "y = np.random.normal(0,1)*np.identity(N)\n",
    "X = np.matmul(A,y)\n",
    "\n",
    "\n",
    "\n",
    "eigenvalues, eigenvectors = np.linalg.eig(np.cov(A.T))\n",
    "\n",
    "W_Oja = np.random.normal(0,1, size=(N, 1))\n",
    "W_Oja_prime = np.random.normal(0,1, size=(N, 1))\n",
    "\n",
    "c = 0.001  ## learning rate\n",
    "tol = 1e-10\n",
    "iter=0\n",
    "norm_W_Oja =[]\n",
    "log_T = []\n",
    "data_slice = []\n",
    "while np.linalg.norm(W_Oja_prime - W_Oja) > tol:\n",
    "    W_Oja_prime = W_Oja.copy()\n",
    "    \n",
    "    Y = np.dot(X, W_Oja)\n",
    "    W_Oja += c * np.sum(Y*X*W_Oja.T, axis=0).reshape((N, 1))\n",
    "    data_slice .append(np.dot(X[0],W_Oja))\n",
    "    norm_W_Oja.append(np.linalg.norm(W_Oja))\n",
    "    iter+=1\n",
    "    log_T.append(math.log(iter,10))"
   ]
  },
  {
   "cell_type": "code",
   "execution_count": 15,
   "metadata": {},
   "outputs": [
    {
     "name": "stdout",
     "output_type": "stream",
     "text": [
      "eigenvalues :  [0.2695631  0.24824078]\n",
      "\n",
      "eigenvector corresponding to maximal eigenvalue : \n",
      "[0.91023197 0.41409874]\n",
      "\n",
      "Oja's weights :\n",
      "[-2.65219826e-05 -2.80649234e-05]\n"
     ]
    }
   ],
   "source": [
    "print(\"eigenvalues : \",eigenvalues)\n",
    "index = np.argmax(eigenvalues)\n",
    "print()\n",
    "print(\"eigenvector corresponding to maximal eigenvalue : \")\n",
    "print(eigenvectors[:,index])\n",
    "print()\n",
    "print(\"Oja's weights :\")\n",
    "print(W_Oja[:,0])"
   ]
  },
  {
   "cell_type": "code",
   "execution_count": null,
   "metadata": {},
   "outputs": [],
   "source": []
  }
 ],
 "metadata": {
  "kernelspec": {
   "display_name": "Python 3",
   "language": "python",
   "name": "python3"
  },
  "language_info": {
   "codemirror_mode": {
    "name": "ipython",
    "version": 3
   },
   "file_extension": ".py",
   "mimetype": "text/x-python",
   "name": "python",
   "nbconvert_exporter": "python",
   "pygments_lexer": "ipython3",
   "version": "3.7.9"
  }
 },
 "nbformat": 4,
 "nbformat_minor": 4
}
