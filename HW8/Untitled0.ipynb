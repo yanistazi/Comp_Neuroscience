{
 "cells": [
  {
   "cell_type": "code",
   "execution_count": 2,
   "metadata": {
    "id": "uN-yX1TaerTh"
   },
   "outputs": [],
   "source": [
    "import random\n",
    "import numpy as np\n",
    "import math\n",
    "import matplotlib.pyplot as plt"
   ]
  },
  {
   "cell_type": "code",
   "execution_count": 16,
   "metadata": {
    "colab": {
     "base_uri": "https://localhost:8080/"
    },
    "id": "x-RB3C02eyI5",
    "outputId": "3bec0c04-ead7-45ca-ac6e-67328e0b07aa"
   },
   "outputs": [
    {
     "name": "stdout",
     "output_type": "stream",
     "text": [
      "100\n",
      "100     110\n",
      "100     120\n",
      "100     130\n",
      "100     140\n",
      "100     150\n",
      "100     160\n",
      "100     170\n",
      "200\n",
      "200     220\n",
      "200     240\n",
      "200     260\n",
      "200     280\n",
      "200     300\n",
      "200     320\n",
      "200     340\n",
      "300\n",
      "300     330\n",
      "300     360\n",
      "300     390\n",
      "300     420\n",
      "300     450\n",
      "300     480\n",
      "400\n",
      "400     440\n",
      "400     480\n",
      "400     520\n",
      "400     560\n",
      "400     600\n",
      "400     640\n",
      "500\n",
      "500     550\n",
      "500     600\n",
      "500     650\n",
      "500     700\n",
      "500     750\n",
      "600\n",
      "600     660\n",
      "600     720\n",
      "600     780\n",
      "600     840\n",
      "600     900\n",
      "700\n",
      "700     770\n",
      "700     840\n",
      "700     910\n",
      "700     980\n",
      "700     1050\n",
      "700     1120\n",
      "800\n",
      "800     880\n",
      "800     960\n",
      "800     1040\n",
      "800     1120\n",
      "800     1200\n",
      "800     1280\n",
      "900\n",
      "900     990\n",
      "900     1080\n",
      "900     1170\n",
      "900     1260\n",
      "900     1350\n",
      "1000\n",
      "1000     1100\n",
      "1000     1200\n",
      "1000     1300\n",
      "1000     1400\n",
      "1000     1500\n"
     ]
    }
   ],
   "source": [
    "Ns = np.linspace(100,1000,10).astype(np.int)\n",
    "pmax = []\n",
    "\n",
    "#Ns=[400]\n",
    "\n",
    "for N in Ns :\n",
    "    print(N)\n",
    "    #p = int(N-N/10)\n",
    "    p = N\n",
    "    prop_correct = 100\n",
    "    while (prop_correct == 100) :\n",
    "        #print(prop_correct)\n",
    "        p+=int(0.1*N)\n",
    "        print(N,\"   \", p)\n",
    "        # Data : Input-Output generation :\n",
    "        random.seed(129)\n",
    "        X = np.array([[random.choice([-1, 1]) for i in range(N)] for j in range(p)])\n",
    "        Y = np.array([random.choice([-1, 1]) for j in range(p)])\n",
    "        \n",
    "        # initialise weights and bias :\n",
    "        np.random.seed(17)\n",
    "        W_j = [np.random.normal(0,1) for i in range(N)]\n",
    "        theta = np.random.normal(0,1)\n",
    "        \n",
    "        for i in range(100) :\n",
    "            for t in range(p) :\n",
    "                y_hat = np.dot(W_j,X[t]) - theta\n",
    "                if (np.sign(y_hat)!=Y[t]):\n",
    "                    W_j = W_j + Y[t] * X[t]\n",
    "                    theta = theta - Y[t]\n",
    "                    prop_correct = 100*sum([np.sign(np.dot(W_j,X[j]) - theta) for j in range(p)]==Y)/p\n",
    "    pmax.append(p) "
   ]
  },
  {
   "cell_type": "code",
   "execution_count": 17,
   "metadata": {
    "colab": {
     "base_uri": "https://localhost:8080/"
    },
    "id": "vW0IxKDQe2Cr",
    "outputId": "9c860a1e-cb58-4f5b-8820-bb180dabb4e2"
   },
   "outputs": [
    {
     "data": {
      "text/plain": [
       "[170, 340, 480, 640, 750, 900, 1120, 1280, 1350, 1500]"
      ]
     },
     "execution_count": 17,
     "metadata": {
      "tags": []
     },
     "output_type": "execute_result"
    }
   ],
   "source": [
    "pmax"
   ]
  },
  {
   "cell_type": "code",
   "execution_count": 18,
   "metadata": {
    "colab": {
     "base_uri": "https://localhost:8080/"
    },
    "id": "JlT2BAVDzZak",
    "outputId": "42c7f319-3124-4d68-eef9-cd6961dda825"
   },
   "outputs": [
    {
     "name": "stdout",
     "output_type": "stream",
     "text": [
      "100\n",
      "100     161\n",
      "200\n",
      "200     321\n",
      "300\n",
      "300     451\n",
      "400\n",
      "400     601\n",
      "400     602\n",
      "400     603\n",
      "400     604\n",
      "400     605\n",
      "400     606\n",
      "500\n",
      "500     701\n",
      "600\n",
      "600     841\n",
      "600     842\n",
      "600     843\n",
      "700\n",
      "700     1051\n",
      "700     1052\n",
      "700     1053\n",
      "700     1054\n",
      "800\n",
      "800     1201\n",
      "900\n",
      "900     1261\n",
      "900     1262\n",
      "1000\n",
      "1000     1401\n",
      "1000     1402\n"
     ]
    }
   ],
   "source": [
    "Ns = np.linspace(100,1000,10).astype(np.int)\n",
    "pmaxs = []\n",
    "\n",
    "\n",
    "k=0\n",
    "for N in Ns :\n",
    "    print(N)\n",
    "    #p = int(N-N/10)\n",
    "    p = pmax[k] - int(0.1*N) \n",
    "    prop_correct = 100\n",
    "    while (prop_correct == 100) :\n",
    "        p+=1\n",
    "        print(N,\"   \", p)\n",
    "        # Data : Input-Output generation :\n",
    "        random.seed(129)\n",
    "        X = np.array([[random.choice([-1, 1]) for i in range(N)] for j in range(p)])\n",
    "        Y = np.array([random.choice([-1, 1]) for j in range(p)])\n",
    "        \n",
    "        # initialise weights and bias :\n",
    "        np.random.seed(17)\n",
    "        W_j = [np.random.normal(0,1) for i in range(N)]\n",
    "        theta = np.random.normal(0,1)\n",
    "        \n",
    "        for i in range(100) :\n",
    "            for t in range(p) :\n",
    "                y_hat = np.dot(W_j,X[t]) - theta\n",
    "                if (np.sign(y_hat)!=Y[t]):\n",
    "                    W_j = W_j + Y[t] * X[t]\n",
    "                    theta = theta - Y[t]\n",
    "                    prop_correct = 100*sum([np.sign(np.dot(W_j,X[j]) - theta) for j in range(p)]==Y)/p\n",
    "    k+=1\n",
    "    pmaxs.append(p) "
   ]
  },
  {
   "cell_type": "code",
   "execution_count": 19,
   "metadata": {
    "colab": {
     "base_uri": "https://localhost:8080/"
    },
    "id": "04T3i9110L9w",
    "outputId": "c31e0e97-b774-46fc-871e-aabd6a25484f"
   },
   "outputs": [
    {
     "data": {
      "text/plain": [
       "[161, 321, 451, 606, 701, 843, 1054, 1201, 1262, 1402]"
      ]
     },
     "execution_count": 19,
     "metadata": {
      "tags": []
     },
     "output_type": "execute_result"
    }
   ],
   "source": [
    "pmaxs"
   ]
  },
  {
   "cell_type": "code",
   "execution_count": 20,
   "metadata": {
    "colab": {
     "base_uri": "https://localhost:8080/",
     "height": 282
    },
    "id": "IshmquYL3fpq",
    "outputId": "207da496-cd51-49f1-fa64-a87829b8d624"
   },
   "outputs": [
    {
     "data": {
      "text/plain": [
       "[<matplotlib.lines.Line2D at 0x7f219d54d438>]"
      ]
     },
     "execution_count": 20,
     "metadata": {
      "tags": []
     },
     "output_type": "execute_result"
    },
    {
     "data": {
      "image/png": "[encoded data removed]",
      "text/plain": [
       "<Figure size 432x288 with 1 Axes>"
      ]
     },
     "metadata": {
      "needs_background": "light",
      "tags": []
     },
     "output_type": "display_data"
    }
   ],
   "source": [
    "plt.plot(Ns,pmaxs)"
   ]
  },
  {
   "cell_type": "code",
   "execution_count": null,
   "metadata": {
    "id": "vagwGeOU3_fC"
   },
   "outputs": [],
   "source": []
  }
 ],
 "metadata": {
  "colab": {
   "name": "Untitled0.ipynb",
   "provenance": []
  },
  "kernelspec": {
   "display_name": "Python 3",
   "language": "python",
   "name": "python3"
  },
  "language_info": {
   "codemirror_mode": {
    "name": "ipython",
    "version": 3
   },
   "file_extension": ".py",
   "mimetype": "text/x-python",
   "name": "python",
   "nbconvert_exporter": "python",
   "pygments_lexer": "ipython3",
   "version": "3.7.9"
  }
 },
 "nbformat": 4,
 "nbformat_minor": 4
}
